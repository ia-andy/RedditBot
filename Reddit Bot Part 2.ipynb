{
 "cells": [
  {
   "cell_type": "code",
   "execution_count": 1,
   "metadata": {},
   "outputs": [],
   "source": [
    "import praw\n",
    "import pdb\n",
    "import re\n",
    "import os"
   ]
  },
  {
   "cell_type": "code",
   "execution_count": 2,
   "metadata": {},
   "outputs": [],
   "source": [
    "reddit = praw.Reddit('bot1')"
   ]
  },
  {
   "cell_type": "code",
   "execution_count": 11,
   "metadata": {},
   "outputs": [
    {
     "name": "stdout",
     "output_type": "stream",
     "text": [
      "Bot replying to :  I love PYTHON\n"
     ]
    }
   ],
   "source": [
    "if not os.path.isfile('posts_replied_to.txt'):\n",
    "    posts_replied_to=[]\n",
    "    \n",
    "else:\n",
    "    with open('posts_replied_to.txt','r') as f:\n",
    "        posts_replied_to = f.read()\n",
    "        posts_replied_to = posts_replied_to.split('\\n')\n",
    "        posts_replied_to = list(filter(None, posts_replied_to))\n",
    "        \n",
    "subreddit = reddit.subreddit('pythonforengineers')\n",
    "for submission in subreddit.hot(limit=5):\n",
    "    if submission.id not in posts_replied_to:\n",
    "        if re.search('i love python', submission.title, re.IGNORECASE):\n",
    "            submission.reply('Comodude loves python!!')\n",
    "            print('Bot replying to : ', submission.title)\n",
    "            posts_replied_to.append(submission.id)\n",
    "        \n",
    "with open('posts_replied_to.txt', 'w') as f:\n",
    "    for post_id in posts_replied_to:\n",
    "        f.write(post_id+'\\n')"
   ]
  },
  {
   "cell_type": "code",
   "execution_count": null,
   "metadata": {},
   "outputs": [],
   "source": []
  }
 ],
 "metadata": {
  "kernelspec": {
   "display_name": "Python 3",
   "language": "python",
   "name": "python3"
  },
  "language_info": {
   "codemirror_mode": {
    "name": "ipython",
    "version": 3
   },
   "file_extension": ".py",
   "mimetype": "text/x-python",
   "name": "python",
   "nbconvert_exporter": "python",
   "pygments_lexer": "ipython3",
   "version": "3.7.1"
  }
 },
 "nbformat": 4,
 "nbformat_minor": 2
}
